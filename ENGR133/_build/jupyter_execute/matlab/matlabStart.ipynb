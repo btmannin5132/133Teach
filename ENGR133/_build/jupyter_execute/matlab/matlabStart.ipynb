{
 "cells": [
  {
   "cell_type": "code",
   "execution_count": 1,
   "id": "9ccaf73d",
   "metadata": {},
   "outputs": [
    {
     "name": "stdout",
     "output_type": "stream",
     "text": [
      "\u001b[?2004l\n"
     ]
    },
    {
     "name": "stdout",
     "output_type": "stream",
     "text": [
      "\r\n"
     ]
    },
    {
     "name": "stdout",
     "output_type": "stream",
     "text": [
      "\n"
     ]
    },
    {
     "name": "stdout",
     "output_type": "stream",
     "text": [
      "\r\n",
      "\u001b[?2004h\n"
     ]
    },
    {
     "name": "stdout",
     "output_type": "stream",
     "text": [
      "\u001b[?2004l\n"
     ]
    },
    {
     "name": "stdout",
     "output_type": "stream",
     "text": [
      "\r\n"
     ]
    },
    {
     "name": "stdout",
     "output_type": "stream",
     "text": [
      "\n"
     ]
    },
    {
     "name": "stdout",
     "output_type": "stream",
     "text": [
      "\r\n",
      "warning: using the gnuplot graphics toolkit is discouraged\r\n",
      "\r\n",
      "The gnuplot graphics toolkit is not actively maintained and has a number\r\n",
      "of limitations that are unlikely to be fixed.  Communication with gnuplot\r\n",
      "uses a one-directional pipe and limited information is passed back to the\r\n",
      "Octave interpreter so most changes made interactively in the plot window\r\n",
      "will not be reflected in the graphics properties managed by Octave.  For\r\n",
      "example, if the plot window is closed with a mouse click, Octave will not\r\n",
      "be notified and will not update its internal list of open figure windows.\r\n",
      "The qt toolkit is recommended instead.\r\n",
      "\u001b[?2004h\n"
     ]
    },
    {
     "name": "stdout",
     "output_type": "stream",
     "text": [
      "\u001b[?2004l\n"
     ]
    },
    {
     "name": "stdout",
     "output_type": "stream",
     "text": [
      "\r\n"
     ]
    },
    {
     "name": "stdout",
     "output_type": "stream",
     "text": [
      "\n"
     ]
    },
    {
     "name": "stdout",
     "output_type": "stream",
     "text": [
      "\r\n",
      "\u001b[?2004h\n"
     ]
    },
    {
     "name": "stdout",
     "output_type": "stream",
     "text": [
      "\u001b[?2004l\r",
      "\r\n",
      "n = 10\r\n",
      "\u001b[?2004h"
     ]
    }
   ],
   "source": [
    "n = 10\n"
   ]
  }
 ],
 "metadata": {
  "kernelspec": {
   "display_name": "Octave",
   "language": "octave",
   "name": "octave"
  },
  "language_info": {
   "file_extension": ".m",
   "help_links": [
    {
     "text": "GNU Octave",
     "url": "https://www.gnu.org/software/octave/support.html"
    },
    {
     "text": "Octave Kernel",
     "url": "https://github.com/Calysto/octave_kernel"
    },
    {
     "text": "MetaKernel Magics",
     "url": "https://metakernel.readthedocs.io/en/latest/source/README.html"
    }
   ],
   "mimetype": "text/x-octave",
   "name": "octave",
   "version": "8.4.0"
  }
 },
 "nbformat": 4,
 "nbformat_minor": 5
}