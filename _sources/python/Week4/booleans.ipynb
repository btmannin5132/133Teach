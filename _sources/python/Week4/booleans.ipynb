{
 "cells": [
  {
   "cell_type": "markdown",
   "id": "dc02e79f",
   "metadata": {},
   "source": [
    "# Boolean Operations\n",
    "\n",
    "## Boolean Truth Tables\n"
   ]
  },
  {
   "cell_type": "code",
   "execution_count": 1,
   "id": "e00c8e2c",
   "metadata": {},
   "outputs": [
    {
     "name": "stdout",
     "output_type": "stream",
     "text": [
      "OR\n",
      "1 | 1 = 1\n",
      "1 | 0 = 1\n",
      "0 | 1 = 1\n",
      "0 | 0 = 0\n",
      "\n",
      "AND\n",
      "1 & 1 = 1\n",
      "1 & 0 = 0\n",
      "0 & 1 = 0\n",
      "0 & 0 = 0\n",
      "\n",
      "XOR\n",
      "1 ^ 1 = 0\n",
      "1 ^ 0 = 1\n",
      "0 ^ 1 = 1\n",
      "0 ^ 0 = 0\n",
      "\n",
      "NOT\n",
      "~1 = 0\n",
      "~0 = 1\n",
      "\n",
      "NOR\n",
      "~(1 | 1) = 0\n",
      "~(1 | 0) = 0\n",
      "~(0 | 1) = 0\n",
      "~(0 | 0) = 1\n",
      "\n",
      "NAND\n",
      "~(1 & 1) = 0\n",
      "~(1 & 0) = 1\n",
      "~(0 & 1) = 1\n",
      "~(0 & 0) = 1\n",
      "\n",
      "XNOR\n",
      "~(1 ^ 1) = 1\n",
      "~(1 ^ 0) = 0\n",
      "~(0 ^ 1) = 0\n",
      "~(0 ^ 0) = 1\n"
     ]
    }
   ],
   "source": [
    "p = [1,0]\n",
    "q = [1,0]\n",
    "\n",
    "print(\"OR\")\n",
    "for P in p:\n",
    "    for Q in q:\n",
    "        print(f\"{P} | {Q} = {P|Q}\")\n",
    "\n",
    "print(\"\\nAND\")\n",
    "for P in p:\n",
    "    for Q in q:\n",
    "        print(f\"{P} & {Q} = {P&Q}\")\n",
    "\n",
    "\n",
    "print(\"\\nXOR\")\n",
    "for P in p:\n",
    "    for Q in q:\n",
    "        print(f\"{P} ^ {Q} = {P^Q}\")\n",
    "\n",
    "print(\"\\nNOT\")\n",
    "for P in p:\n",
    "    print(f\"~{P} = {1-P}\")\n",
    "\n",
    "print(\"\\nNOR\")\n",
    "for P in p:\n",
    "    for Q in q:\n",
    "        print(f\"~({P} | {Q}) = {1-(P|Q)}\")\n",
    "\n",
    "print(\"\\nNAND\")\n",
    "for P in p:\n",
    "    for Q in q:\n",
    "        print(f\"~({P} & {Q}) = {1-(P&Q)}\")\n",
    "\n",
    "print(\"\\nXNOR\")\n",
    "for P in p:\n",
    "    for Q in q:\n",
    "        print(f\"~({P} ^ {Q}) = {1-(P^Q)}\")\n",
    "\n"
   ]
  },
  {
   "cell_type": "markdown",
   "id": "92905883",
   "metadata": {},
   "source": [
    "## Boolean Operators"
   ]
  },
  {
   "cell_type": "code",
   "execution_count": 2,
   "id": "9e92cec9",
   "metadata": {},
   "outputs": [
    {
     "name": "stdout",
     "output_type": "stream",
     "text": [
      "AND: x=5 and y=9\n",
      "OR: x = 5, or y = 9 (or both can be true)\n",
      "XNOR: Both statements are either both true or both\n"
     ]
    }
   ],
   "source": [
    "x = 5\n",
    "y = 9\n",
    "\n",
    "if x==5 and y==9:\n",
    "    print(\"AND: x=5 and y=9\")\n",
    "\n",
    "if x==5 or y == 9:\n",
    "    print(\"OR: x = 5, or y = 9 (or both can be true)\")\n",
    "\n",
    "if x==5 ^ y == 9:\n",
    "    print(\"XOR: either x = 5, or y = 9 but not both are true\")\n",
    "\n",
    "if not(x==5 and y==9):\n",
    "    print(\"NAND: x is not 5 or y is not 9\") \n",
    "\n",
    "\n",
    "if not(x==5 or y==9):\n",
    "    print(\"NOR: x is not 5 and y is not 9\")\n",
    "\n",
    "if not(x==5 ^ y==9):\n",
    "    print(\"XNOR: Both statements are either both true or both\")"
   ]
  }
 ],
 "metadata": {
  "kernelspec": {
   "display_name": "Python 3",
   "language": "python",
   "name": "python3"
  },
  "language_info": {
   "codemirror_mode": {
    "name": "ipython",
    "version": 3
   },
   "file_extension": ".py",
   "mimetype": "text/x-python",
   "name": "python",
   "nbconvert_exporter": "python",
   "pygments_lexer": "ipython3",
   "version": "3.12.1"
  }
 },
 "nbformat": 4,
 "nbformat_minor": 5
}
