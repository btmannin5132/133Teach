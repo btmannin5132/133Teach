{
 "cells": [
  {
   "cell_type": "markdown",
   "id": "917726ef",
   "metadata": {},
   "source": [
    "# Conditionals"
   ]
  },
  {
   "cell_type": "code",
   "execution_count": null,
   "id": "0bae6708",
   "metadata": {
    "vscode": {
     "languageId": "plaintext"
    }
   },
   "outputs": [],
   "source": [
    "def regionCheck():\n",
    "    y = .25\n",
    "    x = .75\n",
    "\n",
    "    if y == 1-x:\n",
    "        print(\"On the line\")\n",
    "    elif y < 1-x:\n",
    "        print(\"Region 1\")\n",
    "    else:\n",
    "        print(\"Region 2\")\n",
    "\n",
    "def ifGeneral():\n",
    "    a = 58\n",
    "    b = 7\n",
    "    if a == 5:\n",
    "        print(\"a = 5\")\n",
    "    print(\"I display no matter what\")\n",
    "    if b == 7:\n",
    "        print(\"b = 7\")\n",
    "\n",
    "\n",
    "def nestIf():\n",
    "    a = 5\n",
    "    b = 12\n",
    "    if a == 5:\n",
    "        print(\"a = 5\")\n",
    "        if b > 10:\n",
    "            print(f\"b is {b}\")\n",
    "        else:\n",
    "            print(\"b <= 10\")\n",
    "        print(\"I will still run as long as a == 5\")\n",
    "    print(\"I will print no matter what\")\n",
    "\n",
    "\n",
    "def ifElse():\n",
    "    a = 9\n",
    "    b = 12\n",
    "    if a > b:\n",
    "        print(\"a is greater than b\")\n",
    "        return a\n",
    "    elif b > a:\n",
    "        print(\"b is greater than a\")\n",
    "        return b\n",
    "    else:\n",
    "        print(\"a = b\")\n",
    "        return a\n",
    "\n",
    "regionCheck()\n",
    "#ifGeneral()\n",
    "#nestIf()\n",
    "#ifElse()\n"
   ]
  }
 ],
 "metadata": {
  "language_info": {
   "name": "python"
  }
 },
 "nbformat": 4,
 "nbformat_minor": 5
}
