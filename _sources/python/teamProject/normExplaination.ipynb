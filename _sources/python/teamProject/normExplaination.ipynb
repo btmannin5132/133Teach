{
 "cells": [
  {
   "cell_type": "markdown",
   "id": "8d4595c0",
   "metadata": {},
   "source": [
    "# norm() Explaination\n",
    "In your knn_single_prediction function for task 1, you are asked to use the np.linalg.norm(). I have received quite a few questions about what this is doing, and how to properly use it in the program, so I will go over that here.\n",
    "\n",
    "As the instructions state, you are trying to calculate the 'distance' away your new_example input is from all of the test data.   \n",
    "\n",
    "You may recall from a prior math or physics class where you calcualted distance between two points using a \"distance formula\" that likely looked something like :\n",
    "$$d = \\sqrt{(x_2 - x_1)^2 + (y_2 - y_1)^2}$$\n",
    "\n",
    "if (x1,y1) is (0,0), you may be able to recognize this as solving for the hypotenuse of a right triangle using the Pythagorean theorem. \n",
    "\n",
    "In calc2 and later physics classes, you will use a similar function to determine the magnitude of vectors.  \n",
    "\n",
    "In Calc3, you will learn you can use this same thing for finding the distance between two points in 3 dimensions too (and as many as you may want):\n",
    "$$d = \\sqrt{(x_2 - x_1)^2 + (y_2 - y_1)^2+ (z_2 - z_1)^2}$$\n",
    "\n",
    "Per the original function name, this process is called normalization.  'normalizing' values calculated the magnitude of the values provided.  You can provide 2 values, 3 values, even dozens of values if you wanted to, and the function will add up the square of all of the values, and then take the square root to provide a normalized value.\n",
    "\n",
    "Numpy arrays make this go very quickly, as they have a normalization function already.  You can replicate this using standard numpy operations too.\n",
    "\n"
   ]
  },
  {
   "cell_type": "code",
   "execution_count": 2,
   "id": "a295c1c9",
   "metadata": {},
   "outputs": [
    {
     "name": "stdout",
     "output_type": "stream",
     "text": [
      "2.23606797749979\n",
      "2.23606797749979\n"
     ]
    }
   ],
   "source": [
    "import numpy as np\n",
    "# test points.  Feel free to test out multiple sets\n",
    "p1 = np.array([1,5])\n",
    "p2 = np.array([3,6])\n",
    "\n",
    "#simmilar to what you would get from your csv file\n",
    "# p1 = np.array([77.5901, 74.89, 87.53, 76.63, 16.03, 17.25, 0, 0])\n",
    "# p2 = np.array([42.2627, 68.19, 101.12, 90.50, 112.23, 107.99, 25, 1])\n",
    "\n",
    "\n",
    "# take the differences of the array\n",
    "d1 = p2- p1\n",
    "\n",
    "norm= np.linalg.norm(d1)\n",
    "\n",
    "dist= np.sqrt(sum(d1**2))\n",
    "\n",
    "print(dist)\n",
    "print(norm)\n"
   ]
  }
 ],
 "metadata": {
  "kernelspec": {
   "display_name": "Python 3",
   "language": "python",
   "name": "python3"
  },
  "language_info": {
   "codemirror_mode": {
    "name": "ipython",
    "version": 3
   },
   "file_extension": ".py",
   "mimetype": "text/x-python",
   "name": "python",
   "nbconvert_exporter": "python",
   "pygments_lexer": "ipython3",
   "version": "3.12.1"
  }
 },
 "nbformat": 4,
 "nbformat_minor": 5
}
