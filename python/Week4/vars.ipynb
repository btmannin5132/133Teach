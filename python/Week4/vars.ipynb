{
 "cells": [
  {
   "cell_type": "code",
   "execution_count": null,
   "id": "95cbc830",
   "metadata": {
    "vscode": {
     "languageId": "plaintext"
    }
   },
   "outputs": [],
   "source": []
  },
  {
   "cell_type": "markdown",
   "id": "fa4a9b40",
   "metadata": {},
   "source": [
    "# Global Variables"
   ]
  },
  {
   "cell_type": "code",
   "execution_count": null,
   "id": "aaf54e43",
   "metadata": {
    "vscode": {
     "languageId": "plaintext"
    }
   },
   "outputs": [],
   "source": [
    "# A GLOBAL variable, accessible everywhere.\n",
    "menu_item = \"egg and spam\"\n",
    "\n",
    "def order():\n",
    "    # This is a LOCAL variable. It only exists inside this function.\n",
    "    customer_item = \"spam, egg, sausage, and spam\"\n",
    "    print(f\"Customer: I'll have the {customer_item}.\")\n",
    "    print(f\"Waitress: We've only got {menu_item}, sir. Waiting on more spam\")\n",
    "    print(\"Customer: Oh, alright then.\")\n",
    "\n",
    "def serves():\n",
    "    # The waitress uses the GLOBAL variable because that's what's available\n",
    "    # to the whole restaurant.\n",
    "    print(f\"Waitress serves: Here's your {menu_item}, sir. The one from the menu.\")\n",
    "\n",
    "def request():\n",
    "    menu_item = \"spam, egg, spam, spam, spam, bacon, and spam\"\n",
    "    print(f\"Customer: How much spam does {menu_item} have in it?\")\n",
    "    print(f\"Waitress: Not as much as spam, spam, spam, spam, spam, baked beans, spam and spam has.\")\n",
    "\n",
    "def delivery():\n",
    "    # This function uses the 'global' keyword to change the GLOBAL menu_item.\n",
    "    # It's a special delivery of 'spam spam spam spam'.\n",
    "    global menu_item\n",
    "    menu_item = \"spam, spam, spam, spam, egg and spam\"\n",
    "    print(\"We got more spam!\")\n",
    "\n",
    "# Here's what happens:\n",
    "\n",
    "print(f\"The menu has been set up. The menu has {menu_item}, and that's it\")\n",
    "\n",
    "print(\"\\nA customer comes in and places an order.\")\n",
    "order()\n",
    "\n",
    "print(\"\\nThe waitress serves from the menu again.\")\n",
    "serves()\n",
    "\n",
    "print(\"\\nThe new spam delivery arrives!\")\n",
    "delivery()\n",
    "\n",
    "print(\"\\nNow, let's see what's on the menu after the delivery.\")\n",
    "serves()\n",
    "\n",
    "print(\"\\nPerhps something a little off menu?\")\n",
    "request()\n",
    "\n",
    "#Moral of the story: Don't modify global varables inside of functions if you can avoid it...\n",
    "#Globals are great for:\n",
    "    #Pins on microcontrollers\n",
    "    #motor assignments\n",
    "    #Set variables that a lot of places will use, but don't need to be changed\n",
    "\n",
    "#Don't use globals for:\n",
    "    #Literally anything else...\n"
   ]
  }
 ],
 "metadata": {
  "language_info": {
   "name": "python"
  }
 },
 "nbformat": 4,
 "nbformat_minor": 5
}
