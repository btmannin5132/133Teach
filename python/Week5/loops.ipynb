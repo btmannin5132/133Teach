{
 "cells": [
  {
   "cell_type": "markdown",
   "id": "7866e852",
   "metadata": {},
   "source": [
    "# Using Loops\n",
    "\n",
    "Loops allow us to reduce the amount of time we have to write instructions.  If we can run the instructions multiple times, then we simplify the code, and can make more progress."
   ]
  },
  {
   "cell_type": "markdown",
   "id": "c7c55fcb",
   "metadata": {},
   "source": [
    "## While Loops"
   ]
  },
  {
   "cell_type": "code",
   "execution_count": null,
   "id": "9b517aeb",
   "metadata": {},
   "outputs": [],
   "source": [
    "def while1():\n",
    "    x = 1\n",
    "    while x <= 5:\n",
    "        #add 1 to x (yes, you can use the same variable to assign)\n",
    "        x = x + 1\n",
    "        #calculate y\n",
    "        y = x**2 - 1\n",
    "        #print\n",
    "        print(f\"x={x} y={y}\")\n",
    "    #After the loop:    \n",
    "    z = x * y\n",
    "    print(f\"z={z}\")\n",
    "\n",
    "def while2():\n",
    "    count_loops = 0\n",
    "    x = 0\n",
    "    while x <= 5:\n",
    "        x = x + 1\n",
    "        y = x**2 - 1\n",
    "        count_loops += 1\n",
    "        print(f\"x={x} y={y}\")\n",
    "    # Display counter outside loop​\n",
    "    print(f\"Counter = {count_loops}\")\n",
    "\n",
    "def while3(): #stuck in a loop\n",
    "    count_loops = 0\n",
    "    x = 1\n",
    "    while x <= 5:\n",
    "        x = x\n",
    "        y = x**2 - 1\n",
    "        count_loops += 1\n",
    "        print(f\"x={x} y={y}\")\n",
    "    # Display counter outside loop​\n",
    "    print(f\"Counter = {count_loops}\")\n",
    "\n",
    "\n",
    "#while1()\n",
    "#while2()\n",
    "while3()"
   ]
  },
  {
   "cell_type": "markdown",
   "id": "392845e3",
   "metadata": {},
   "source": [
    "## For Loops"
   ]
  },
  {
   "cell_type": "code",
   "execution_count": 1,
   "id": "794d6690",
   "metadata": {},
   "outputs": [
    {
     "name": "stdout",
     "output_type": "stream",
     "text": [
      "ii:1, jj:1, a_V:[2]\n",
      "ii:1, jj:3, a_V:[2, 4]\n",
      "ii:1, jj:5, a_V:[2, 4, 6]\n",
      "ii:2, jj:1, a_V:[2, 4, 6, 3]\n",
      "ii:2, jj:3, a_V:[2, 4, 6, 3, 5]\n",
      "ii:2, jj:5, a_V:[2, 4, 6, 3, 5, 7]\n"
     ]
    }
   ],
   "source": [
    "def for1():\n",
    "    for x in [7,9,16]:\n",
    "        y = x+2\n",
    "        print(f\"x={x}, y={y}\")\n",
    "\n",
    "def for2():\n",
    "    for x in range(1,10):\n",
    "        y = x**2\n",
    "        print(f\"x={x}, y={y}\")\n",
    "\n",
    "def forList():\n",
    "    a=range(20)\n",
    "    List1 = []\n",
    "    for x in a:\n",
    "        List1.append(x+4)\n",
    "        print(List1)\n",
    "    print(List1)\n",
    "\n",
    "def nestFor():\n",
    "    a_V = []\n",
    "    for ii in range(1,3):\n",
    "        for jj in range(1,6,2):\n",
    "            z = ii + jj\n",
    "            a_V.append(z)\n",
    "            print(f\"ii:{ii}, jj:{jj}, a_V:{a_V}\")\n",
    "\n",
    "def leaveLoop():\n",
    "    numbers = [1, 2, 3, 5, 7, 10, 15, 22, 25, 28]\n",
    "    for num in numbers:\n",
    "        if num > 20:\n",
    "            print(\"Found a number greater than 20!\")\n",
    "            break\n",
    "        elif num % 5 == 0:\n",
    "            continue\n",
    "        elif num == 2:\n",
    "            pass\n",
    "        else:\n",
    "            print(num)\n",
    "\n",
    "\n",
    "#for1()\n",
    "#for2()\n",
    "#forList()\n",
    "nestFor()\n",
    "#leaveLoop()"
   ]
  },
  {
   "cell_type": "markdown",
   "id": "3fe478a0",
   "metadata": {},
   "source": [
    "## Recursion (Ignore this if you want...)"
   ]
  },
  {
   "cell_type": "code",
   "execution_count": null,
   "id": "f8c34a0e",
   "metadata": {},
   "outputs": [],
   "source": [
    "def collatz_iter(n):\n",
    "    #Determine stopping time using iteration.\n",
    "    steps = 0\n",
    "    while n > 1:\n",
    "        steps += 1\n",
    "        if n%2:  # n is odd​\n",
    "            n = 3*n + 1\n",
    "        else:  # n is even​\n",
    "            n = n // 2\n",
    "    return steps\n",
    "\n",
    "def collatz_recur(n, steps):\n",
    "#    Determine stopping time using recursion.\n",
    "    if n == 1:\n",
    "        return steps\n",
    "    elif n%2:  # n is odd​\n",
    "        n = 3*n + 1\n",
    "    else:  # n is even​\n",
    "        n = n //  2\n",
    "    return collatz_recur(n, steps+1)\n",
    "\n",
    "def hanoiRecurs(n, source, auxiliary, destination):\n",
    "    \"\"\"\n",
    "    Solves the Towers of Hanoi puzzle recursively.\n",
    "        n: The number of disks to move.\n",
    "        source: The starting peg.\n",
    "        auxiliary: The intermediate peg.\n",
    "        destination: The final peg.\n",
    "    \"\"\"\n",
    "    if n == 1:\n",
    "        print(f\"Move disk 1 from {source} to {destination}\")\n",
    "        return\n",
    "    hanoiRecurs(n - 1, source, destination, auxiliary)\n",
    "    print(f\"Move disk {n} from {source} to {destination}\")\n",
    "    hanoiRecurs(n - 1, auxiliary, source, destination)\n",
    "\n",
    "\n",
    "#collatz_iter(123)\n",
    "#collatz_recur(123,0)\n",
    "hanoiRecurs(5, 'A', 'B', 'C')"
   ]
  }
 ],
 "metadata": {
  "kernelspec": {
   "display_name": "Python 3",
   "language": "python",
   "name": "python3"
  },
  "language_info": {
   "codemirror_mode": {
    "name": "ipython",
    "version": 3
   },
   "file_extension": ".py",
   "mimetype": "text/x-python",
   "name": "python",
   "nbconvert_exporter": "python",
   "pygments_lexer": "ipython3",
   "version": "3.12.1"
  }
 },
 "nbformat": 4,
 "nbformat_minor": 5
}
