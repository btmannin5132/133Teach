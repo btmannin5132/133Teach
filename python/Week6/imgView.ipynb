{
 "cells": [
  {
   "cell_type": "markdown",
   "id": "dd87d42d",
   "metadata": {},
   "source": [
    "Moving an image to matplotlib"
   ]
  },
  {
   "cell_type": "code",
   "execution_count": null,
   "id": "d8294154",
   "metadata": {},
   "outputs": [],
   "source": [
    "import matplotlib.pyplot as plt\n",
    "\n",
    "# Prompt user for image name​\n",
    "image_name = input('Enter image name (with extension): ')\n",
    "# Read the image using matplotlib​\n",
    "image = plt.imread(image_name)\n",
    "\n",
    "# Display the image​\n",
    "plt.figure()\n",
    "plt.imshow(image)\n",
    "plt.title('Spider Pete')\n",
    "plt.xlabel('It is a spider')  # Appropriate label\n",
    "plt.ylabel('It is Pete')  # Appropriate label if needed\n",
    "\n",
    "# Show the plot​\n",
    "\n",
    "plt.show()"
   ]
  },
  {
   "cell_type": "markdown",
   "id": "4d3a0ebc",
   "metadata": {},
   "source": [
    "Modifying images in Matplotlib"
   ]
  },
  {
   "cell_type": "code",
   "execution_count": null,
   "id": "877ae302",
   "metadata": {},
   "outputs": [],
   "source": [
    "import matplotlib.pyplot as plt\n",
    "import numpy as np\n",
    "\n",
    "image1 = plt.imread('spiderPete.jpg')\n",
    "image2 = plt.imread('spiderPete.jpg')\n",
    "\n",
    "x_points = np.random.randint(0, image1.shape[1], 10)  # x-coordinates​\n",
    "y_points = np.random.randint(0, image1.shape[0], 10)  # y-coordinates​\n",
    "\n",
    "fig, axs = plt.subplots(1, 2, figsize=(8, 5))\n",
    "\n",
    "axs[0].imshow(image1)\n",
    "axs[1].imshow(image2)\n",
    "\n",
    "axs[0].scatter(x_points, y_points, c='red')  # red points​\n",
    "axs[1].scatter(x_points, y_points, c='yellow', marker = '^')  # yellow Triangles\n",
    "\n",
    "axs[0].set_title('Pete with red points')\n",
    "axs[1].set_title('Pete with yellow triangles')\n",
    "\n",
    "axs[0].set_xlabel('Spider')\n",
    "axs[1].set_xlabel('Spider')\n",
    "\n",
    "axs[0].set_ylabel(\"It's Spider Pete\")\n",
    "\n",
    "axs[1].set_ylabel(\"It's Spider Pete\")\n",
    "\n",
    "#plt.tight_layout()\n",
    "plt.show()"
   ]
  }
 ],
 "metadata": {
  "kernelspec": {
   "display_name": "Python 3",
   "language": "python",
   "name": "python3"
  },
  "language_info": {
   "codemirror_mode": {
    "name": "ipython",
    "version": 3
   },
   "file_extension": ".py",
   "mimetype": "text/x-python",
   "name": "python",
   "nbconvert_exporter": "python",
   "pygments_lexer": "ipython3",
   "version": "3.12.1"
  }
 },
 "nbformat": 4,
 "nbformat_minor": 5
}
