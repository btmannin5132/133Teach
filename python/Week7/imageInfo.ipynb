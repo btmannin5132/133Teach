{
 "cells": [
  {
   "cell_type": "code",
   "execution_count": null,
   "id": "ad22dda6",
   "metadata": {},
   "outputs": [],
   "source": [
    "import matplotlib.pyplot as plt\n",
    "from PIL import Image\n",
    "\n",
    "image_name = 'notHappyCarnival.jpg'\n",
    "\n",
    "img = Image.open(image_name)\n",
    "\n",
    "fig, axs = plt.subplots(1, 3, figsize=(15, 5))\n",
    "\n",
    "axs[0].imshow(img)\n",
    "axs[1].imshow(img.convert(\"L\")) # Don't forget the cmap \n",
    "#(This convert is not how you will do it for the project)\n",
    "axs[2].imshow(img.convert(\"L\"), cmap='gray') \n",
    "\n",
    "fig.suptitle('A \"Carnival\"', fontsize=15)\n",
    "axs[0].set_title('Color')\n",
    "axs[1].set_title('Greyscale without cmap')\n",
    "axs[2].set_title('proper greyscale')\n",
    "\n",
    "plt.tight_layout(rect=[0, 0.03, 1, 0.95])\n",
    "\n",
    "#plt.tight_layout()\n",
    "\n",
    "plt.show()"
   ]
  },
  {
   "cell_type": "code",
   "execution_count": null,
   "id": "db5b6e2c",
   "metadata": {},
   "outputs": [],
   "source": [
    "#more Image fun- split color and greyscale\n",
    "\n",
    "import numpy as np\n",
    "import matplotlib.pyplot as plt\n",
    "\n",
    "image_name = 'notHappyCarnival.jpg'\n",
    "img = plt.imread(image_name)\n",
    "\n",
    "if img.dtype != np.float32 and img.dtype != np.float64:\n",
    "    img = img.astype(np.float64) / 255.0\n",
    "\n",
    "height, width, channels = img.shape\n",
    "\n",
    "split = width // 2 #integer division with //\n",
    "\n",
    "left_half_color = img[:, :split, :]\n",
    "right_half_color = img[:, split:, :]\n",
    "\n",
    "#L = 0.2989*R + 0.5870*G + 0.1140*B\n",
    "grayscale_weights = np.array([0.2989, 0.5870, 0.1140])\n",
    "\n",
    "#dot product is different than just normal multiplication, makes a scalar with all 3 values\n",
    "luminance = np.dot(right_half_color, grayscale_weights)\n",
    "#print(luminance)\n",
    "\n",
    "#make it so it can be seen on a color screen (RGB pixels all need information)\n",
    "# np.stack is kindof like append, just for full arrays instead of one value\n",
    "\n",
    "right_half_grey = np.stack([luminance] * 3, axis=2) #just give the same value to each pixel\n",
    "#print(right_half_grey)\n",
    "\n",
    "final_image = np.hstack((left_half_color, right_half_grey))\n",
    "\n",
    "plt.figure(figsize=(12, 6))\n",
    "plt.imshow(final_image)\n",
    "plt.title(\"Color/Grayscale Split Image\")\n",
    "plt.axis('off')\n",
    "plt.show() "
   ]
  }
 ],
 "metadata": {
  "kernelspec": {
   "display_name": "Python 3",
   "language": "python",
   "name": "python3"
  },
  "language_info": {
   "codemirror_mode": {
    "name": "ipython",
    "version": 3
   },
   "file_extension": ".py",
   "mimetype": "text/x-python",
   "name": "python",
   "nbconvert_exporter": "python",
   "pygments_lexer": "ipython3",
   "version": "3.12.1"
  }
 },
 "nbformat": 4,
 "nbformat_minor": 5
}
